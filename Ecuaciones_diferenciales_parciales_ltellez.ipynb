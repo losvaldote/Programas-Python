{
 "cells": [
  {
   "cell_type": "markdown",
   "metadata": {},
   "source": [
    "# Ecuaciones diferenciales parciales "
   ]
  },
  {
   "cell_type": "markdown",
   "metadata": {},
   "source": [
    "## Obtenido de:\n",
    "https://relopezbriega.github.io/blog/2016/01/27/ecuaciones-en-derivadas-parciales-con-python/"
   ]
  },
  {
   "cell_type": "markdown",
   "metadata": {},
   "source": [
    "Vamos a importar las librerías necesarias."
   ]
  },
  {
   "cell_type": "code",
   "execution_count": 19,
   "metadata": {
    "collapsed": true
   },
   "outputs": [],
   "source": [
    "%matplotlib inline \n",
    "\n",
    "import matplotlib.pyplot as plt\n",
    "import matplotlib as mpl\n",
    "import numpy as np\n",
    "import sympy #Esta librería es para simplificar símbolos matemáticos\n",
    "from sympy import *\n",
    "\n",
    "#Vamos a imprimir con notación matemática.\n",
    "sympy.init_printing(use_latex='mathjax')"
   ]
  },
  {
   "cell_type": "code",
   "execution_count": 38,
   "metadata": {
    "collapsed": true
   },
   "outputs": [],
   "source": [
    "#Vamos a definir las variables.\n",
    "x,y,u,z,t,c = sympy.symbols('x y u z t c')\n",
    "f = sympy.Function('f')"
   ]
  },
  {
   "cell_type": "markdown",
   "metadata": {},
   "source": [
    "### Veamos, por ejemplo, como escribir la ecuación diferencial parcial (coeficientes constantes):\n",
    "### 4u_x - 3u_y=0. Donde u_x es la derivada de u respecto de x, análogamente para u_y"
   ]
  },
  {
   "cell_type": "code",
   "execution_count": 3,
   "metadata": {},
   "outputs": [
    {
     "data": {
      "text/latex": [
       "$$4 \\frac{\\partial}{\\partial x} f{\\left (x,y \\right )} - 3 \\frac{\\partial}{\\partial y} f{\\left (x,y \\right )} = 0$$"
      ],
      "text/plain": [
       "  ∂               ∂              \n",
       "4⋅──(f(x, y)) - 3⋅──(f(x, y)) = 0\n",
       "  ∂x              ∂y             "
      ]
     },
     "execution_count": 3,
     "metadata": {},
     "output_type": "execute_result"
    }
   ],
   "source": [
    "# Definamos la ecuación:\n",
    "u = f(x,y) #Decimos que u es una función de x,y.\n",
    "u_x = u.diff(x) #Definimos la derivada de u respecto de x\n",
    "u_y = u.diff(y)\n",
    "eq = sympy.Eq(4*u_x - 3*u_y) #Definimos la ecuación diferencial parcial\n",
    "eq"
   ]
  },
  {
   "cell_type": "markdown",
   "metadata": {},
   "source": [
    "### Vamos a resolver la ecuación anterior:"
   ]
  },
  {
   "cell_type": "code",
   "execution_count": 12,
   "metadata": {},
   "outputs": [
    {
     "data": {
      "text/latex": [
       "$$f{\\left (x,y \\right )} = F{\\left (- 3 x - 4 y \\right )}$$"
      ],
      "text/plain": [
       "f(x, y) = F(-3⋅x - 4⋅y)"
      ]
     },
     "execution_count": 12,
     "metadata": {},
     "output_type": "execute_result"
    }
   ],
   "source": [
    "#Resolviendo la ecuación:\n",
    "sympy.pdsolve(eq)\n",
    "\n",
    "#Recordemos que pdsolve sólo resuelve ecuaciones de primer orden\n",
    "#y nos devuelve una función arbitraria."
   ]
  },
  {
   "cell_type": "markdown",
   "metadata": {},
   "source": [
    "### ¿Qué pasa si los coeficientes no son constantes? \n",
    "### Veamos cómo resolver la ecuación u_x + yu_y=0"
   ]
  },
  {
   "cell_type": "code",
   "execution_count": 6,
   "metadata": {},
   "outputs": [
    {
     "data": {
      "text/latex": [
       "$$y \\frac{\\partial}{\\partial y} f{\\left (x,y \\right )} + \\frac{\\partial}{\\partial x} f{\\left (x,y \\right )} = 0$$"
      ],
      "text/plain": [
       "  ∂             ∂              \n",
       "y⋅──(f(x, y)) + ──(f(x, y)) = 0\n",
       "  ∂y            ∂x             "
      ]
     },
     "execution_count": 6,
     "metadata": {},
     "output_type": "execute_result"
    }
   ],
   "source": [
    "#Definimos la ecuación u_x + yu_y=0\n",
    "u = f(x,y)\n",
    "u_x = u.diff(x)\n",
    "u_y = u.diff(y)\n",
    "eq2 = sympy.Eq(u_x + y*u_y)\n",
    "eq2"
   ]
  },
  {
   "cell_type": "code",
   "execution_count": 7,
   "metadata": {},
   "outputs": [
    {
     "data": {
      "text/latex": [
       "$$f{\\left (x,y \\right )} = F{\\left (y e^{- x} \\right )}$$"
      ],
      "text/plain": [
       "           ⎛   -x⎞\n",
       "f(x, y) = F⎝y⋅ℯ  ⎠"
      ]
     },
     "execution_count": 7,
     "metadata": {},
     "output_type": "execute_result"
    }
   ],
   "source": [
    "#Vamos a resolver la ecuación:\n",
    "sympy.pdsolve(eq2)"
   ]
  },
  {
   "cell_type": "markdown",
   "metadata": {},
   "source": [
    "### También podemos ver la clasifiación de la ecuación diferencial parcial."
   ]
  },
  {
   "cell_type": "code",
   "execution_count": 8,
   "metadata": {},
   "outputs": [
    {
     "data": {
      "text/plain": [
       "('1st_linear_variable_coeff',)"
      ]
     },
     "execution_count": 8,
     "metadata": {},
     "output_type": "execute_result"
    }
   ],
   "source": [
    "sympy.classify_pde(eq2)"
   ]
  },
  {
   "cell_type": "code",
   "execution_count": 10,
   "metadata": {},
   "outputs": [
    {
     "data": {
      "text/plain": [
       "('1st_linear_constant_coeff_homogeneous',)"
      ]
     },
     "execution_count": 10,
     "metadata": {},
     "output_type": "execute_result"
    }
   ],
   "source": [
    "#Clasificación de la ecuación con coeficientes constantes.\n",
    "sympy.classify_pde(eq)"
   ]
  },
  {
   "cell_type": "markdown",
   "metadata": {},
   "source": [
    "### Para poder resolver ecuaciones diferenciales de mayor orden con sympy necesitamos separar la ecuación diferencial en un conjunto de ecuaciones diferenciales de primer orden. Para esto usaremos separación de variables."
   ]
  },
  {
   "cell_type": "markdown",
   "metadata": {},
   "source": [
    "### Veamos por ejemplo la ecuación:\n",
    "### y^2(u_x)^2 + x^2(u_y)^2 = (xyu)^2\n",
    "### Haciendo separación de variables obtenemos dos ecuaciones lineales que pueden ser resueltas por sympy."
   ]
  },
  {
   "cell_type": "code",
   "execution_count": 13,
   "metadata": {},
   "outputs": [
    {
     "data": {
      "text/latex": [
       "$$- z + \\frac{\\frac{d}{d x} f{\\left (x \\right )}}{x f{\\left (x \\right )}} = 0$$"
      ],
      "text/plain": [
       "     d           \n",
       "     ──(f(x))    \n",
       "     dx          \n",
       "-z + ──────── = 0\n",
       "      x⋅f(x)     "
      ]
     },
     "execution_count": 13,
     "metadata": {},
     "output_type": "execute_result"
    }
   ],
   "source": [
    "#La primer ecuación a resolver es:\n",
    "edo1 = sympy.Eq((1 / x) * (f(x).diff(x)/f(x)) - z)\n",
    "edo1\n",
    "#Donde z es la constante de separación."
   ]
  },
  {
   "cell_type": "code",
   "execution_count": 14,
   "metadata": {},
   "outputs": [
    {
     "data": {
      "text/latex": [
       "$$f{\\left (x \\right )} = C_{1} e^{\\frac{x^{2} z}{2}}$$"
      ],
      "text/plain": [
       "            2  \n",
       "           x ⋅z\n",
       "           ────\n",
       "            2  \n",
       "f(x) = C₁⋅ℯ    "
      ]
     },
     "execution_count": 14,
     "metadata": {},
     "output_type": "execute_result"
    }
   ],
   "source": [
    "#Vamos a resolverla:\n",
    "sympy.dsolve(edo1)"
   ]
  },
  {
   "cell_type": "code",
   "execution_count": 15,
   "metadata": {},
   "outputs": [
    {
     "data": {
      "text/latex": [
       "$$- \\sqrt{- z^{2} + 1} + \\frac{\\frac{d}{d y} f{\\left (y \\right )}}{y f{\\left (y \\right )}} = 0$$"
      ],
      "text/plain": [
       "                  d           \n",
       "     __________   ──(f(y))    \n",
       "    ╱    2        dy          \n",
       "- ╲╱  - z  + 1  + ──────── = 0\n",
       "                   y⋅f(y)     "
      ]
     },
     "execution_count": 15,
     "metadata": {},
     "output_type": "execute_result"
    }
   ],
   "source": [
    "#Para la segunda ecuación tenemos:\n",
    "edo2 = sympy.Eq((f(y).diff(y)) / (y*f(y)) - sympy.sqrt(1 - z**2))\n",
    "edo2\n",
    "#z es la constante de separación."
   ]
  },
  {
   "cell_type": "code",
   "execution_count": 16,
   "metadata": {},
   "outputs": [
    {
     "data": {
      "text/latex": [
       "$$f{\\left (y \\right )} = C_{1} e^{\\frac{y^{2}}{2} \\sqrt{- z^{2} + 1}}$$"
      ],
      "text/plain": [
       "                 __________\n",
       "            2   ╱    2     \n",
       "           y ⋅╲╱  - z  + 1 \n",
       "           ────────────────\n",
       "                  2        \n",
       "f(y) = C₁⋅ℯ                "
      ]
     },
     "execution_count": 16,
     "metadata": {},
     "output_type": "execute_result"
    }
   ],
   "source": [
    "#Vamos a resolverla:\n",
    "sympy.dsolve(edo2)"
   ]
  },
  {
   "cell_type": "markdown",
   "metadata": {},
   "source": [
    "### Al final, la solución de la ecuación diferencial parcial será el producto de las dos soluciones obtenidas anteriormente."
   ]
  },
  {
   "cell_type": "code",
   "execution_count": 21,
   "metadata": {},
   "outputs": [
    {
     "data": {
      "text/latex": [
       "$$\\left(f{\\left (x \\right )} = C_{1} e^{\\frac{x^{2} z}{2}}\\right) \\left(f{\\left (y \\right )} = C_{1} e^{\\frac{y^{2}}{2} \\sqrt{- z^{2} + 1}}\\right)$$"
      ],
      "text/plain": [
       "                  ⎛                 __________⎞\n",
       "⎛            2  ⎞ ⎜            2   ╱    2     ⎟\n",
       "⎜           x ⋅z⎟ ⎜           y ⋅╲╱  - z  + 1 ⎟\n",
       "⎜           ────⎟ ⎜           ────────────────⎟\n",
       "⎜            2  ⎟ ⎜                  2        ⎟\n",
       "⎝f(x) = C₁⋅ℯ    ⎠⋅⎝f(y) = C₁⋅ℯ                ⎠"
      ]
     },
     "execution_count": 21,
     "metadata": {},
     "output_type": "execute_result"
    }
   ],
   "source": [
    "simplify((sympy.dsolve(edo1))*(sympy.dsolve(edo2)))"
   ]
  },
  {
   "cell_type": "markdown",
   "metadata": {},
   "source": [
    "### Esta herramienta es muy útil. Sin embargo una desventaja notable es que es necesario maniplular la ecuación a resolver hasta reducirla a una o unas de orden 1 antes de meterla al código.\n",
    "\n",
    "\n",
    "\n",
    "### Veamos como caso especial a la ecuación de onda:\n",
    "### u_tt - (1/c^2)(u_xx)=0"
   ]
  },
  {
   "cell_type": "code",
   "execution_count": 23,
   "metadata": {},
   "outputs": [
    {
     "data": {
      "text/latex": [
       "$$\\frac{d^{2}}{d x^{2}}  y{\\left (x \\right )} = 0$$"
      ],
      "text/plain": [
       "  2          \n",
       " d           \n",
       "───(y(x)) = 0\n",
       "  2          \n",
       "dx           "
      ]
     },
     "execution_count": 23,
     "metadata": {},
     "output_type": "execute_result"
    }
   ],
   "source": [
    "sympy.Eq(y(x).diff(x,2))  #Escribir derivadas de distinto orden."
   ]
  },
  {
   "cell_type": "markdown",
   "metadata": {},
   "source": [
    "### Ya que hemos usado separación de variables obtenemos dos ecuaciones diferenciales de segundo orden.\n"
   ]
  },
  {
   "cell_type": "code",
   "execution_count": 35,
   "metadata": {},
   "outputs": [],
   "source": [
    "#Vamos a necesitar dos funciones, g para el tiempo y p para la x.\n",
    "g = sympy.Function('g')\n",
    "p = sympy.Function('p')"
   ]
  },
  {
   "cell_type": "code",
   "execution_count": 36,
   "metadata": {},
   "outputs": [
    {
     "data": {
      "text/latex": [
       "$$z^{2} g{\\left (t \\right )} + \\frac{d^{2}}{d t^{2}}  g{\\left (t \\right )} = 0$$"
      ],
      "text/plain": [
       "            2          \n",
       " 2         d           \n",
       "z ⋅g(t) + ───(g(t)) = 0\n",
       "            2          \n",
       "          dt           "
      ]
     },
     "execution_count": 36,
     "metadata": {},
     "output_type": "execute_result"
    }
   ],
   "source": [
    "#Ahora sí vamos a definir la primer ecuación:\n",
    "edo5 = sympy.Eq(g(t).diff(t,2) + z**2*g(t) )\n",
    "edo5"
   ]
  },
  {
   "cell_type": "code",
   "execution_count": 37,
   "metadata": {},
   "outputs": [
    {
     "data": {
      "text/latex": [
       "$$g{\\left (t \\right )} = C_{1} e^{- i t z} + C_{2} e^{i t z}$$"
      ],
      "text/plain": [
       "           -ⅈ⋅t⋅z       ⅈ⋅t⋅z\n",
       "g(t) = C₁⋅ℯ       + C₂⋅ℯ     "
      ]
     },
     "execution_count": 37,
     "metadata": {},
     "output_type": "execute_result"
    }
   ],
   "source": [
    "#Vamos a resolverla:\n",
    "sympy.dsolve(edo5)"
   ]
  },
  {
   "cell_type": "code",
   "execution_count": 41,
   "metadata": {},
   "outputs": [
    {
     "data": {
      "text/latex": [
       "$$c^{2} z^{2} p{\\left (x \\right )} + \\frac{d^{2}}{d x^{2}}  p{\\left (x \\right )} = 0$$"
      ],
      "text/plain": [
       "               2          \n",
       " 2  2         d           \n",
       "c ⋅z ⋅p(x) + ───(p(x)) = 0\n",
       "               2          \n",
       "             dx           "
      ]
     },
     "execution_count": 41,
     "metadata": {},
     "output_type": "execute_result"
    }
   ],
   "source": [
    "#Para la segunda ecuación:\n",
    "edo6 = sympy.Eq(p(x).diff(x,2) + c**2*z**2*p(x) )\n",
    "edo6"
   ]
  },
  {
   "cell_type": "code",
   "execution_count": 42,
   "metadata": {},
   "outputs": [
    {
     "data": {
      "text/latex": [
       "$$p{\\left (x \\right )} = C_{1} e^{- i c x z} + C_{2} e^{i c x z}$$"
      ],
      "text/plain": [
       "           -ⅈ⋅c⋅x⋅z       ⅈ⋅c⋅x⋅z\n",
       "p(x) = C₁⋅ℯ         + C₂⋅ℯ       "
      ]
     },
     "execution_count": 42,
     "metadata": {},
     "output_type": "execute_result"
    }
   ],
   "source": [
    "#Vamos a resolverla:\n",
    "sympy.dsolve(edo6)"
   ]
  },
  {
   "cell_type": "code",
   "execution_count": 44,
   "metadata": {},
   "outputs": [
    {
     "data": {
      "text/latex": [
       "$$\\frac{\\partial^{2}}{\\partial y^{2}}  f{\\left (x,y \\right )} - \\frac{1}{c^{2}} \\frac{\\partial^{2}}{\\partial x^{2}}  f{\\left (x,y \\right )} = 0$$"
      ],
      "text/plain": [
       "                 2             \n",
       "                ∂              \n",
       "               ───(f(x, y))    \n",
       "  2              2             \n",
       " ∂             ∂x              \n",
       "───(f(x, y)) - ──────────── = 0\n",
       "  2                  2         \n",
       "∂y                  c          "
      ]
     },
     "execution_count": 44,
     "metadata": {},
     "output_type": "execute_result"
    }
   ],
   "source": [
    "u = f(x,y) #Decimos que u es una función de x,y.\n",
    "u_yy = u.diff(y,2) #Definimos la derivada de u respecto de x\n",
    "u_xx = u.diff(x,2)\n",
    "eqonda = sympy.Eq(u_yy - (1/c**2)*u_xx)\n",
    "eqonda"
   ]
  },
  {
   "cell_type": "code",
   "execution_count": 45,
   "metadata": {},
   "outputs": [
    {
     "ename": "ValueError",
     "evalue": "dsolve() and classify_ode() only work with functions of one variable, not f(x, y)",
     "output_type": "error",
     "traceback": [
      "\u001b[1;31m---------------------------------------------------------------------------\u001b[0m",
      "\u001b[1;31mValueError\u001b[0m                                Traceback (most recent call last)",
      "\u001b[1;32m<ipython-input-45-3810526d16e6>\u001b[0m in \u001b[0;36m<module>\u001b[1;34m()\u001b[0m\n\u001b[0;32m      1\u001b[0m \u001b[1;31m#Vamos a resolverla:\u001b[0m\u001b[1;33m\u001b[0m\u001b[1;33m\u001b[0m\u001b[0m\n\u001b[1;32m----> 2\u001b[1;33m \u001b[0msympy\u001b[0m\u001b[1;33m.\u001b[0m\u001b[0mdsolve\u001b[0m\u001b[1;33m(\u001b[0m\u001b[0meqonda\u001b[0m\u001b[1;33m)\u001b[0m\u001b[1;33m\u001b[0m\u001b[0m\n\u001b[0m",
      "\u001b[1;32mC:\\Users\\LuisOsvaldo\\Anaconda3\\lib\\site-packages\\sympy\\solvers\\ode.py\u001b[0m in \u001b[0;36mdsolve\u001b[1;34m(eq, func, hint, simplify, ics, xi, eta, x0, n, **kwargs)\u001b[0m\n\u001b[0;32m    623\u001b[0m         hints = _desolve(eq, func=func,\n\u001b[0;32m    624\u001b[0m             \u001b[0mhint\u001b[0m\u001b[1;33m=\u001b[0m\u001b[0mhint\u001b[0m\u001b[1;33m,\u001b[0m \u001b[0msimplify\u001b[0m\u001b[1;33m=\u001b[0m\u001b[1;32mTrue\u001b[0m\u001b[1;33m,\u001b[0m \u001b[0mxi\u001b[0m\u001b[1;33m=\u001b[0m\u001b[0mxi\u001b[0m\u001b[1;33m,\u001b[0m \u001b[0meta\u001b[0m\u001b[1;33m=\u001b[0m\u001b[0meta\u001b[0m\u001b[1;33m,\u001b[0m \u001b[0mtype\u001b[0m\u001b[1;33m=\u001b[0m\u001b[1;34m'ode'\u001b[0m\u001b[1;33m,\u001b[0m \u001b[0mics\u001b[0m\u001b[1;33m=\u001b[0m\u001b[0mics\u001b[0m\u001b[1;33m,\u001b[0m\u001b[1;33m\u001b[0m\u001b[0m\n\u001b[1;32m--> 625\u001b[1;33m             x0=x0, n=n, **kwargs)\n\u001b[0m\u001b[0;32m    626\u001b[0m \u001b[1;33m\u001b[0m\u001b[0m\n\u001b[0;32m    627\u001b[0m         \u001b[0meq\u001b[0m \u001b[1;33m=\u001b[0m \u001b[0mhints\u001b[0m\u001b[1;33m.\u001b[0m\u001b[0mpop\u001b[0m\u001b[1;33m(\u001b[0m\u001b[1;34m'eq'\u001b[0m\u001b[1;33m,\u001b[0m \u001b[0meq\u001b[0m\u001b[1;33m)\u001b[0m\u001b[1;33m\u001b[0m\u001b[0m\n",
      "\u001b[1;32mC:\\Users\\LuisOsvaldo\\Anaconda3\\lib\\site-packages\\sympy\\solvers\\deutils.py\u001b[0m in \u001b[0;36m_desolve\u001b[1;34m(eq, func, hint, ics, simplify, **kwargs)\u001b[0m\n\u001b[0;32m    203\u001b[0m     \u001b[1;32mif\u001b[0m \u001b[0mkwargs\u001b[0m\u001b[1;33m.\u001b[0m\u001b[0mget\u001b[0m\u001b[1;33m(\u001b[0m\u001b[1;34m'classify'\u001b[0m\u001b[1;33m,\u001b[0m \u001b[1;32mTrue\u001b[0m\u001b[1;33m)\u001b[0m\u001b[1;33m:\u001b[0m\u001b[1;33m\u001b[0m\u001b[0m\n\u001b[0;32m    204\u001b[0m         hints = classifier(eq, func, dict=True, ics=ics, xi=xi, eta=eta,\n\u001b[1;32m--> 205\u001b[1;33m         n=terms, x0=x0, prep=prep)\n\u001b[0m\u001b[0;32m    206\u001b[0m \u001b[1;33m\u001b[0m\u001b[0m\n\u001b[0;32m    207\u001b[0m     \u001b[1;32melse\u001b[0m\u001b[1;33m:\u001b[0m\u001b[1;33m\u001b[0m\u001b[0m\n",
      "\u001b[1;32mC:\\Users\\LuisOsvaldo\\Anaconda3\\lib\\site-packages\\sympy\\solvers\\ode.py\u001b[0m in \u001b[0;36mclassify_ode\u001b[1;34m(eq, func, dict, ics, **kwargs)\u001b[0m\n\u001b[0;32m    816\u001b[0m     \u001b[1;32mif\u001b[0m \u001b[0mfunc\u001b[0m \u001b[1;32mand\u001b[0m \u001b[0mlen\u001b[0m\u001b[1;33m(\u001b[0m\u001b[0mfunc\u001b[0m\u001b[1;33m.\u001b[0m\u001b[0margs\u001b[0m\u001b[1;33m)\u001b[0m \u001b[1;33m!=\u001b[0m \u001b[1;36m1\u001b[0m\u001b[1;33m:\u001b[0m\u001b[1;33m\u001b[0m\u001b[0m\n\u001b[0;32m    817\u001b[0m         raise ValueError(\"dsolve() and classify_ode() only \"\n\u001b[1;32m--> 818\u001b[1;33m         \"work with functions of one variable, not %s\" % func)\n\u001b[0m\u001b[0;32m    819\u001b[0m     \u001b[1;32mif\u001b[0m \u001b[0mprep\u001b[0m \u001b[1;32mor\u001b[0m \u001b[0mfunc\u001b[0m \u001b[1;32mis\u001b[0m \u001b[1;32mNone\u001b[0m\u001b[1;33m:\u001b[0m\u001b[1;33m\u001b[0m\u001b[0m\n\u001b[0;32m    820\u001b[0m         \u001b[0meq\u001b[0m\u001b[1;33m,\u001b[0m \u001b[0mfunc_\u001b[0m \u001b[1;33m=\u001b[0m \u001b[0m_preprocess\u001b[0m\u001b[1;33m(\u001b[0m\u001b[0meq\u001b[0m\u001b[1;33m,\u001b[0m \u001b[0mfunc\u001b[0m\u001b[1;33m)\u001b[0m\u001b[1;33m\u001b[0m\u001b[0m\n",
      "\u001b[1;31mValueError\u001b[0m: dsolve() and classify_ode() only work with functions of one variable, not f(x, y)"
     ]
    }
   ],
   "source": [
    "#Vamos a resolverla:\n",
    "sympy.dsolve(eqonda)"
   ]
  },
  {
   "cell_type": "markdown",
   "metadata": {},
   "source": [
    "### De lo anterior vemos que no es posible resolver ecuaciones diferenciales parciales de orden mayor o igual que dos a menos que hagamos separación de variables antes de meter la ecuación al programa.\n",
    "\n",
    "\n",
    "### Por otro lado también vimos que sympy.dsolve puede resolver ecuaciones diferenciales de cualquier orden para cuando la función depende de una única variable."
   ]
  },
  {
   "cell_type": "code",
   "execution_count": null,
   "metadata": {
    "collapsed": true
   },
   "outputs": [],
   "source": []
  }
 ],
 "metadata": {
  "kernelspec": {
   "display_name": "Python 3",
   "language": "python",
   "name": "python3"
  },
  "language_info": {
   "codemirror_mode": {
    "name": "ipython",
    "version": 3
   },
   "file_extension": ".py",
   "mimetype": "text/x-python",
   "name": "python",
   "nbconvert_exporter": "python",
   "pygments_lexer": "ipython3",
   "version": "3.6.1"
  }
 },
 "nbformat": 4,
 "nbformat_minor": 2
}
