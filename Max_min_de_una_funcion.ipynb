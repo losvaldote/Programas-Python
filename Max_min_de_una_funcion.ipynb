{
 "cells": [
  {
   "cell_type": "markdown",
   "id": "5d37b56e",
   "metadata": {},
   "source": [
    "## Ejercicio: Máximos y mínimos de una función."
   ]
  },
  {
   "cell_type": "markdown",
   "id": "fa6672ab",
   "metadata": {},
   "source": [
    "Queremos que el código reciba un arreglo de números donde se encontrará el grado del polinomio, los extremos del intervalo y el tamaño del paso. Así como los coeficientes de dicho polinomio."
   ]
  },
  {
   "cell_type": "code",
   "execution_count": 1,
   "id": "8c3e072a",
   "metadata": {},
   "outputs": [],
   "source": [
    "import numpy as np"
   ]
  },
  {
   "cell_type": "code",
   "execution_count": 2,
   "id": "02401b73",
   "metadata": {},
   "outputs": [],
   "source": [
    "# Primero consideraremos dos listas, en la primera estarán el grado del polinomio, los extremo del intervalo\n",
    "# y el tamaño del paso.\n",
    "\n",
    "# [grado, inf, sup, paso]\n",
    "arr1 = [5., -1., 1., 0.001]\n",
    "\n",
    "# En la segunda lista irán los coeficientes del polinomio\n",
    "arr2 = [-2.,-3.,0.,0.,2.,3.] "
   ]
  },
  {
   "cell_type": "code",
   "execution_count": 3,
   "id": "1a6d125f",
   "metadata": {},
   "outputs": [],
   "source": [
    "# Usaremos las funciones min y max para obtener el mínimo y máximo del polinomio así como\n",
    "# las abcisas correspondientes.\n",
    "\n",
    "# Primero definiremos la función que hará de polinomio.\n",
    "def pol(x):\n",
    "    # Iniciemos un auxiliar en cero\n",
    "    aux = 0\n",
    "    \n",
    "    # Con este for calcularemos el resultado del polinomio.\n",
    "    # El range correr desde cero hasta el máximo valor del grado.\n",
    "    # Como el range se para un valor antes del final, le agregamos uno para alcanzar el grado deseado.\n",
    "    for i in range(0,int(arr1[0])+1):\n",
    "        \n",
    "        # En aux almacenamos la suma y con arr[2] recorremos los coeficientes del polinomio.\n",
    "        aux = aux + arr2[i]*x**i\n",
    "    return aux"
   ]
  },
  {
   "cell_type": "code",
   "execution_count": null,
   "id": "672a7cc9",
   "metadata": {},
   "outputs": [],
   "source": [
    "for i in range(0,4):\n",
    "    print(i)"
   ]
  },
  {
   "cell_type": "code",
   "execution_count": null,
   "id": "c5c6307f",
   "metadata": {},
   "outputs": [],
   "source": [
    "pol(3)"
   ]
  },
  {
   "cell_type": "code",
   "execution_count": 4,
   "id": "257ee2a9",
   "metadata": {},
   "outputs": [],
   "source": [
    "# Definida la función para el polinomio, usaremos un for para recorrer el intervalo con\n",
    "# la función deseada.\n",
    "\n",
    "# Definamos un auxiliar para las posiciones y valores de los máximos y mínimos.   \n",
    "x_min = arr1[1]\n",
    "y_min = pol(arr1[1])\n",
    "    \n",
    "x_max = arr1[1]\n",
    "y_max = pol(arr1[1])\n"
   ]
  },
  {
   "cell_type": "code",
   "execution_count": 5,
   "id": "13848f9f",
   "metadata": {},
   "outputs": [],
   "source": [
    "intervalo = np.arange(arr1[1], arr1[2] + arr1[3], arr1[3])\n",
    "#intervalo"
   ]
  },
  {
   "cell_type": "code",
   "execution_count": null,
   "id": "9587fbf4",
   "metadata": {},
   "outputs": [],
   "source": [
    "#for i in intervalo:\n",
    "#    print(i)"
   ]
  },
  {
   "cell_type": "code",
   "execution_count": 7,
   "id": "25fe1056",
   "metadata": {},
   "outputs": [
    {
     "name": "stdout",
     "output_type": "stream",
     "text": [
      "0.5670000000000015\n",
      "-3.318482489475179\n",
      "-0.8539999999999999\n",
      "0.26307117274492775\n"
     ]
    }
   ],
   "source": [
    "for i in intervalo:\n",
    "    aux = pol(i)\n",
    "    if aux < y_min:\n",
    "        y_min = aux\n",
    "        x_min = i\n",
    "    elif aux > y_max:\n",
    "        y_max = aux\n",
    "        x_max = i\n",
    "        \n",
    "print(x_min)\n",
    "print(y_min)\n",
    "print(x_max)\n",
    "print(y_max)"
   ]
  },
  {
   "cell_type": "code",
   "execution_count": null,
   "id": "cb748c40",
   "metadata": {},
   "outputs": [],
   "source": []
  }
 ],
 "metadata": {
  "kernelspec": {
   "display_name": "Python 3 (ipykernel)",
   "language": "python",
   "name": "python3"
  },
  "language_info": {
   "codemirror_mode": {
    "name": "ipython",
    "version": 3
   },
   "file_extension": ".py",
   "mimetype": "text/x-python",
   "name": "python",
   "nbconvert_exporter": "python",
   "pygments_lexer": "ipython3",
   "version": "3.9.17"
  }
 },
 "nbformat": 4,
 "nbformat_minor": 5
}
